{
 "cells": [
  {
   "cell_type": "markdown",
   "metadata": {},
   "source": [
    "**Question 2's Answer**: In order to show the list of files inside a folder, and its ownership and sizes, we have to, first, go the place where the folder is, and then ask the system to create a list of all the files on that folder ina human readeable format. "
   ]
  },
  {
   "cell_type": "code",
   "execution_count": null,
   "metadata": {
    "scrolled": true
   },
   "outputs": [],
   "source": [
    "cd BioinformaticsCourseGit/Accelerated_Intro_WilkinsonExams/\n",
    "ls -lh"
   ]
  },
  {
   "cell_type": "markdown",
   "metadata": {},
   "source": [
    "In this folder, we can see the ownership of every file (in this case, the owner is \"osboxes\") and every file' size (after the owner's group, just before the date of its last modification). \n",
    "\n",
    "In the first columns of the list we can see the permissions of every file: the first column show us the permission of owner of the file; after that are the permissions of group which the owner belongs to; last, but now least, are the permissions of everybody. In this particular case, all the files have the same kind of permisisons: are readeable and can be written by the user and by everyone on his/her group; and everybody else can read it, but the can't write on it. "
   ]
  },
  {
   "cell_type": "markdown",
   "metadata": {},
   "source": [
    "**Question 3's Answer**: with this command, I'm asking the system to tell me exactly the line where that word (in this case, sentence) appear. That give me the first line, the header. "
   ]
  },
  {
   "cell_type": "code",
   "execution_count": null,
   "metadata": {},
   "outputs": [],
   "source": [
    "grep -w 'Locus_name' Locus_Germplasm_Phenotype_20130122.txt"
   ]
  },
  {
   "cell_type": "markdown",
   "metadata": {},
   "source": [
    "**Question 4's Answer**: with wc (word counter) on the file adding -l, I'm counting all lines (spaces included). "
   ]
  },
  {
   "cell_type": "code",
   "execution_count": null,
   "metadata": {},
   "outputs": [],
   "source": [
    "wc -l < Locus_Germplasm_Phenotype_20130122.txt"
   ]
  },
  {
   "cell_type": "markdown",
   "metadata": {},
   "source": [
    "**Question 5's Answer**: in this case, i've followed the same trail of thought than on the other ones: selecting all lines that don't start by the same words than the header, creating then the requested file, and then counting (but not listing) all the lines on that new file. The number of lines has been decreased by more than 1, which makes me think that all the spaces on the original file have been removed (that would explain why it has decreased that much). "
   ]
  },
  {
   "cell_type": "code",
   "execution_count": null,
   "metadata": {},
   "outputs": [],
   "source": [
    "grep -v '^\\Locus_name\\W\\s\\Germplasm' Locus_Germplasm_Phenotype_20130122.txt > Data_Only.csv\n",
    "wc -l < Data_Only.csv"
   ]
  },
  {
   "cell_type": "markdown",
   "metadata": {},
   "source": [
    "**Question 6's Answer**: same point than question 3, but changing 'Locus_name' for 'root'. I've added the -in prefix to avoid problems with casing and to know exactly where this phenotypes are. "
   ]
  },
  {
   "cell_type": "code",
   "execution_count": null,
   "metadata": {},
   "outputs": [],
   "source": [
    "grep -w -in 'root' Locus_Germplasm_Phenotype_20130122.txt"
   ]
  },
  {
   "cell_type": "markdown",
   "metadata": {},
   "source": [
    "**Question 7's Answer**: after reducing all phenotypes to does related to roots, I looked for any word that started with AT (without any case in particular), followed by any character (normally a number), followed by G (insensitive to case), followed by 5 characters (normally numbers). "
   ]
  },
  {
   "cell_type": "code",
   "execution_count": 15,
   "metadata": {
    "scrolled": false
   },
   "outputs": [
    {
     "ename": "",
     "evalue": "1",
     "output_type": "error",
     "traceback": []
    }
   ],
   "source": [
    "grep -w -in 'root' Locus_Germplasm_Phenotype_20130122.txt > Raíces\n",
    "grep -E -io '^AT[0-9]G([0-9]+)' Raíces > Root-associated-Loci.txt"
   ]
  },
  {
   "cell_type": "markdown",
   "metadata": {},
   "source": [
    "**Question 8's Answer**: I looked (and only output) for all the sequences of numbers (any number of them) that are placed at the end of every line. "
   ]
  },
  {
   "cell_type": "code",
   "execution_count": 55,
   "metadata": {
    "scrolled": false
   },
   "outputs": [],
   "source": [
    "grep -E -ino '[0-9]+$' Locus_Germplasm_Phenotype_20130122.txt > Root-associated-Publications.txt"
   ]
  },
  {
   "cell_type": "markdown",
   "metadata": {},
   "source": [
    "**Question 9's Answer**: We continue the code used on question 7, and now we sort the data in the file Root-associated-Loci, using the command 'uniq' to avoid any repetition. Doing so, we can see every individual loci in the data by its AGI, which first number is the chromosome in which the loci is found. Arabidopsis thaliana has 5 chromosomes, and, as shown by this code, we have a representative of every chromosome in the list of loci found. "
   ]
  },
  {
   "cell_type": "code",
   "execution_count": null,
   "metadata": {},
   "outputs": [],
   "source": [
    "cat Root-associated-Loci.txt\n",
    "sort Root-associated-Loci.txt | uniq"
   ]
  }
 ],
 "metadata": {
  "kernelspec": {
   "display_name": "Bash",
   "language": "bash",
   "name": "bash"
  },
  "language_info": {
   "codemirror_mode": "shell",
   "file_extension": ".sh",
   "mimetype": "text/x-sh",
   "name": "bash"
  }
 },
 "nbformat": 4,
 "nbformat_minor": 2
}
